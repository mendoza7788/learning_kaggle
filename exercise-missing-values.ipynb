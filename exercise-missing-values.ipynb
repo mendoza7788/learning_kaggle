{
 "cells": [
  {
   "cell_type": "markdown",
   "id": "31cc1804",
   "metadata": {
    "papermill": {
     "duration": 0.009853,
     "end_time": "2023-02-08T22:42:57.936571",
     "exception": false,
     "start_time": "2023-02-08T22:42:57.926718",
     "status": "completed"
    },
    "tags": []
   },
   "source": [
    "**This notebook is an exercise in the [Intermediate Machine Learning](https://www.kaggle.com/learn/intermediate-machine-learning) course.  You can reference the tutorial at [this link](https://www.kaggle.com/alexisbcook/missing-values).**\n",
    "\n",
    "---\n"
   ]
  },
  {
   "cell_type": "markdown",
   "id": "b2a03264",
   "metadata": {
    "papermill": {
     "duration": 0.008221,
     "end_time": "2023-02-08T22:42:57.953726",
     "exception": false,
     "start_time": "2023-02-08T22:42:57.945505",
     "status": "completed"
    },
    "tags": []
   },
   "source": [
    "Now it's your turn to test your new knowledge of **missing values** handling. You'll probably find it makes a big difference.\n",
    "\n",
    "# Setup\n",
    "\n",
    "The questions will give you feedback on your work. Run the following cell to set up the feedback system."
   ]
  },
  {
   "cell_type": "code",
   "execution_count": 1,
   "id": "5be30999",
   "metadata": {
    "execution": {
     "iopub.execute_input": "2023-02-08T22:42:57.977007Z",
     "iopub.status.busy": "2023-02-08T22:42:57.975939Z",
     "iopub.status.idle": "2023-02-08T22:42:58.040641Z",
     "shell.execute_reply": "2023-02-08T22:42:58.039230Z"
    },
    "papermill": {
     "duration": 0.081997,
     "end_time": "2023-02-08T22:42:58.044608",
     "exception": false,
     "start_time": "2023-02-08T22:42:57.962611",
     "status": "completed"
    },
    "tags": []
   },
   "outputs": [
    {
     "name": "stdout",
     "output_type": "stream",
     "text": [
      "Setup Complete\n"
     ]
    }
   ],
   "source": [
    "# Set up code checking\n",
    "import os\n",
    "if not os.path.exists(\"../input/train.csv\"):\n",
    "    os.symlink(\"../input/home-data-for-ml-course/train.csv\", \"../input/train.csv\")  \n",
    "    os.symlink(\"../input/home-data-for-ml-course/test.csv\", \"../input/test.csv\") \n",
    "from learntools.core import binder\n",
    "binder.bind(globals())\n",
    "from learntools.ml_intermediate.ex2 import *\n",
    "print(\"Setup Complete\")"
   ]
  },
  {
   "cell_type": "markdown",
   "id": "28e0eda4",
   "metadata": {
    "papermill": {
     "duration": 0.008232,
     "end_time": "2023-02-08T22:42:58.062162",
     "exception": false,
     "start_time": "2023-02-08T22:42:58.053930",
     "status": "completed"
    },
    "tags": []
   },
   "source": [
    "In this exercise, you will work with data from the [Housing Prices Competition for Kaggle Learn Users](https://www.kaggle.com/c/home-data-for-ml-course). \n",
    "\n",
    "![Ames Housing dataset image](https://i.imgur.com/lTJVG4e.png)\n",
    "\n",
    "Run the next code cell without changes to load the training and validation sets in `X_train`, `X_valid`, `y_train`, and `y_valid`.  The test set is loaded in `X_test`."
   ]
  },
  {
   "cell_type": "code",
   "execution_count": 2,
   "id": "dd4c6ed9",
   "metadata": {
    "execution": {
     "iopub.execute_input": "2023-02-08T22:42:58.080975Z",
     "iopub.status.busy": "2023-02-08T22:42:58.080466Z",
     "iopub.status.idle": "2023-02-08T22:42:59.387391Z",
     "shell.execute_reply": "2023-02-08T22:42:59.385839Z"
    },
    "papermill": {
     "duration": 1.319927,
     "end_time": "2023-02-08T22:42:59.390510",
     "exception": false,
     "start_time": "2023-02-08T22:42:58.070583",
     "status": "completed"
    },
    "tags": []
   },
   "outputs": [],
   "source": [
    "import pandas as pd\n",
    "from sklearn.model_selection import train_test_split\n",
    "\n",
    "# Read the data\n",
    "X_full = pd.read_csv('../input/train.csv', index_col='Id')\n",
    "X_test_full = pd.read_csv('../input/test.csv', index_col='Id')\n",
    "\n",
    "# Remove rows with missing target, separate target from predictors\n",
    "X_full.dropna(axis=0, subset=['SalePrice'], inplace=True)\n",
    "y = X_full.SalePrice\n",
    "X_full.drop(['SalePrice'], axis=1, inplace=True)\n",
    "\n",
    "# To keep things simple, we'll use only numerical predictors\n",
    "X = X_full.select_dtypes(exclude=['object'])\n",
    "X_test = X_test_full.select_dtypes(exclude=['object'])\n",
    "\n",
    "# Break off validation set from training data\n",
    "X_train, X_valid, y_train, y_valid = train_test_split(X, y, train_size=0.8, test_size=0.2,\n",
    "                                                      random_state=0)"
   ]
  },
  {
   "cell_type": "markdown",
   "id": "69782ae3",
   "metadata": {
    "papermill": {
     "duration": 0.008531,
     "end_time": "2023-02-08T22:42:59.407854",
     "exception": false,
     "start_time": "2023-02-08T22:42:59.399323",
     "status": "completed"
    },
    "tags": []
   },
   "source": [
    "Use the next code cell to print the first five rows of the data."
   ]
  },
  {
   "cell_type": "code",
   "execution_count": 3,
   "id": "3df4755c",
   "metadata": {
    "execution": {
     "iopub.execute_input": "2023-02-08T22:42:59.427941Z",
     "iopub.status.busy": "2023-02-08T22:42:59.427482Z",
     "iopub.status.idle": "2023-02-08T22:42:59.457822Z",
     "shell.execute_reply": "2023-02-08T22:42:59.456380Z"
    },
    "papermill": {
     "duration": 0.044208,
     "end_time": "2023-02-08T22:42:59.460921",
     "exception": false,
     "start_time": "2023-02-08T22:42:59.416713",
     "status": "completed"
    },
    "tags": []
   },
   "outputs": [
    {
     "data": {
      "text/html": [
       "<div>\n",
       "<style scoped>\n",
       "    .dataframe tbody tr th:only-of-type {\n",
       "        vertical-align: middle;\n",
       "    }\n",
       "\n",
       "    .dataframe tbody tr th {\n",
       "        vertical-align: top;\n",
       "    }\n",
       "\n",
       "    .dataframe thead th {\n",
       "        text-align: right;\n",
       "    }\n",
       "</style>\n",
       "<table border=\"1\" class=\"dataframe\">\n",
       "  <thead>\n",
       "    <tr style=\"text-align: right;\">\n",
       "      <th></th>\n",
       "      <th>MSSubClass</th>\n",
       "      <th>LotFrontage</th>\n",
       "      <th>LotArea</th>\n",
       "      <th>OverallQual</th>\n",
       "      <th>OverallCond</th>\n",
       "      <th>YearBuilt</th>\n",
       "      <th>YearRemodAdd</th>\n",
       "      <th>MasVnrArea</th>\n",
       "      <th>BsmtFinSF1</th>\n",
       "      <th>BsmtFinSF2</th>\n",
       "      <th>...</th>\n",
       "      <th>GarageArea</th>\n",
       "      <th>WoodDeckSF</th>\n",
       "      <th>OpenPorchSF</th>\n",
       "      <th>EnclosedPorch</th>\n",
       "      <th>3SsnPorch</th>\n",
       "      <th>ScreenPorch</th>\n",
       "      <th>PoolArea</th>\n",
       "      <th>MiscVal</th>\n",
       "      <th>MoSold</th>\n",
       "      <th>YrSold</th>\n",
       "    </tr>\n",
       "    <tr>\n",
       "      <th>Id</th>\n",
       "      <th></th>\n",
       "      <th></th>\n",
       "      <th></th>\n",
       "      <th></th>\n",
       "      <th></th>\n",
       "      <th></th>\n",
       "      <th></th>\n",
       "      <th></th>\n",
       "      <th></th>\n",
       "      <th></th>\n",
       "      <th></th>\n",
       "      <th></th>\n",
       "      <th></th>\n",
       "      <th></th>\n",
       "      <th></th>\n",
       "      <th></th>\n",
       "      <th></th>\n",
       "      <th></th>\n",
       "      <th></th>\n",
       "      <th></th>\n",
       "      <th></th>\n",
       "    </tr>\n",
       "  </thead>\n",
       "  <tbody>\n",
       "    <tr>\n",
       "      <th>619</th>\n",
       "      <td>20</td>\n",
       "      <td>90.0</td>\n",
       "      <td>11694</td>\n",
       "      <td>9</td>\n",
       "      <td>5</td>\n",
       "      <td>2007</td>\n",
       "      <td>2007</td>\n",
       "      <td>452.0</td>\n",
       "      <td>48</td>\n",
       "      <td>0</td>\n",
       "      <td>...</td>\n",
       "      <td>774</td>\n",
       "      <td>0</td>\n",
       "      <td>108</td>\n",
       "      <td>0</td>\n",
       "      <td>0</td>\n",
       "      <td>260</td>\n",
       "      <td>0</td>\n",
       "      <td>0</td>\n",
       "      <td>7</td>\n",
       "      <td>2007</td>\n",
       "    </tr>\n",
       "    <tr>\n",
       "      <th>871</th>\n",
       "      <td>20</td>\n",
       "      <td>60.0</td>\n",
       "      <td>6600</td>\n",
       "      <td>5</td>\n",
       "      <td>5</td>\n",
       "      <td>1962</td>\n",
       "      <td>1962</td>\n",
       "      <td>0.0</td>\n",
       "      <td>0</td>\n",
       "      <td>0</td>\n",
       "      <td>...</td>\n",
       "      <td>308</td>\n",
       "      <td>0</td>\n",
       "      <td>0</td>\n",
       "      <td>0</td>\n",
       "      <td>0</td>\n",
       "      <td>0</td>\n",
       "      <td>0</td>\n",
       "      <td>0</td>\n",
       "      <td>8</td>\n",
       "      <td>2009</td>\n",
       "    </tr>\n",
       "    <tr>\n",
       "      <th>93</th>\n",
       "      <td>30</td>\n",
       "      <td>80.0</td>\n",
       "      <td>13360</td>\n",
       "      <td>5</td>\n",
       "      <td>7</td>\n",
       "      <td>1921</td>\n",
       "      <td>2006</td>\n",
       "      <td>0.0</td>\n",
       "      <td>713</td>\n",
       "      <td>0</td>\n",
       "      <td>...</td>\n",
       "      <td>432</td>\n",
       "      <td>0</td>\n",
       "      <td>0</td>\n",
       "      <td>44</td>\n",
       "      <td>0</td>\n",
       "      <td>0</td>\n",
       "      <td>0</td>\n",
       "      <td>0</td>\n",
       "      <td>8</td>\n",
       "      <td>2009</td>\n",
       "    </tr>\n",
       "    <tr>\n",
       "      <th>818</th>\n",
       "      <td>20</td>\n",
       "      <td>NaN</td>\n",
       "      <td>13265</td>\n",
       "      <td>8</td>\n",
       "      <td>5</td>\n",
       "      <td>2002</td>\n",
       "      <td>2002</td>\n",
       "      <td>148.0</td>\n",
       "      <td>1218</td>\n",
       "      <td>0</td>\n",
       "      <td>...</td>\n",
       "      <td>857</td>\n",
       "      <td>150</td>\n",
       "      <td>59</td>\n",
       "      <td>0</td>\n",
       "      <td>0</td>\n",
       "      <td>0</td>\n",
       "      <td>0</td>\n",
       "      <td>0</td>\n",
       "      <td>7</td>\n",
       "      <td>2008</td>\n",
       "    </tr>\n",
       "    <tr>\n",
       "      <th>303</th>\n",
       "      <td>20</td>\n",
       "      <td>118.0</td>\n",
       "      <td>13704</td>\n",
       "      <td>7</td>\n",
       "      <td>5</td>\n",
       "      <td>2001</td>\n",
       "      <td>2002</td>\n",
       "      <td>150.0</td>\n",
       "      <td>0</td>\n",
       "      <td>0</td>\n",
       "      <td>...</td>\n",
       "      <td>843</td>\n",
       "      <td>468</td>\n",
       "      <td>81</td>\n",
       "      <td>0</td>\n",
       "      <td>0</td>\n",
       "      <td>0</td>\n",
       "      <td>0</td>\n",
       "      <td>0</td>\n",
       "      <td>1</td>\n",
       "      <td>2006</td>\n",
       "    </tr>\n",
       "  </tbody>\n",
       "</table>\n",
       "<p>5 rows × 36 columns</p>\n",
       "</div>"
      ],
      "text/plain": [
       "     MSSubClass  LotFrontage  LotArea  OverallQual  OverallCond  YearBuilt  \\\n",
       "Id                                                                           \n",
       "619          20         90.0    11694            9            5       2007   \n",
       "871          20         60.0     6600            5            5       1962   \n",
       "93           30         80.0    13360            5            7       1921   \n",
       "818          20          NaN    13265            8            5       2002   \n",
       "303          20        118.0    13704            7            5       2001   \n",
       "\n",
       "     YearRemodAdd  MasVnrArea  BsmtFinSF1  BsmtFinSF2  ...  GarageArea  \\\n",
       "Id                                                     ...               \n",
       "619          2007       452.0          48           0  ...         774   \n",
       "871          1962         0.0           0           0  ...         308   \n",
       "93           2006         0.0         713           0  ...         432   \n",
       "818          2002       148.0        1218           0  ...         857   \n",
       "303          2002       150.0           0           0  ...         843   \n",
       "\n",
       "     WoodDeckSF  OpenPorchSF  EnclosedPorch  3SsnPorch  ScreenPorch  PoolArea  \\\n",
       "Id                                                                              \n",
       "619           0          108              0          0          260         0   \n",
       "871           0            0              0          0            0         0   \n",
       "93            0            0             44          0            0         0   \n",
       "818         150           59              0          0            0         0   \n",
       "303         468           81              0          0            0         0   \n",
       "\n",
       "     MiscVal  MoSold  YrSold  \n",
       "Id                            \n",
       "619        0       7    2007  \n",
       "871        0       8    2009  \n",
       "93         0       8    2009  \n",
       "818        0       7    2008  \n",
       "303        0       1    2006  \n",
       "\n",
       "[5 rows x 36 columns]"
      ]
     },
     "execution_count": 3,
     "metadata": {},
     "output_type": "execute_result"
    }
   ],
   "source": [
    "X_train.head()"
   ]
  },
  {
   "cell_type": "markdown",
   "id": "34e691cd",
   "metadata": {
    "papermill": {
     "duration": 0.009081,
     "end_time": "2023-02-08T22:42:59.480455",
     "exception": false,
     "start_time": "2023-02-08T22:42:59.471374",
     "status": "completed"
    },
    "tags": []
   },
   "source": [
    "You can already see a few missing values in the first several rows.  In the next step, you'll obtain a more comprehensive understanding of the missing values in the dataset.\n",
    "\n",
    "# Step 1: Preliminary investigation\n",
    "\n",
    "Run the code cell below without changes."
   ]
  },
  {
   "cell_type": "code",
   "execution_count": 4,
   "id": "70816712",
   "metadata": {
    "execution": {
     "iopub.execute_input": "2023-02-08T22:42:59.500499Z",
     "iopub.status.busy": "2023-02-08T22:42:59.500083Z",
     "iopub.status.idle": "2023-02-08T22:42:59.509473Z",
     "shell.execute_reply": "2023-02-08T22:42:59.508058Z"
    },
    "papermill": {
     "duration": 0.022955,
     "end_time": "2023-02-08T22:42:59.512445",
     "exception": false,
     "start_time": "2023-02-08T22:42:59.489490",
     "status": "completed"
    },
    "tags": []
   },
   "outputs": [
    {
     "name": "stdout",
     "output_type": "stream",
     "text": [
      "(1168, 36)\n",
      "LotFrontage    212\n",
      "MasVnrArea       6\n",
      "GarageYrBlt     58\n",
      "dtype: int64\n"
     ]
    }
   ],
   "source": [
    "# Shape of training data (num_rows, num_columns)\n",
    "print(X_train.shape)\n",
    "\n",
    "# Number of missing values in each column of training data\n",
    "missing_val_count_by_column = (X_train.isnull().sum())\n",
    "print(missing_val_count_by_column[missing_val_count_by_column > 0])"
   ]
  },
  {
   "cell_type": "markdown",
   "id": "eb27f5e2",
   "metadata": {
    "papermill": {
     "duration": 0.008733,
     "end_time": "2023-02-08T22:42:59.530375",
     "exception": false,
     "start_time": "2023-02-08T22:42:59.521642",
     "status": "completed"
    },
    "tags": []
   },
   "source": [
    "### Part A\n",
    "\n",
    "Use the above output to answer the questions below."
   ]
  },
  {
   "cell_type": "code",
   "execution_count": 5,
   "id": "f8bffd7d",
   "metadata": {
    "execution": {
     "iopub.execute_input": "2023-02-08T22:42:59.550221Z",
     "iopub.status.busy": "2023-02-08T22:42:59.549763Z",
     "iopub.status.idle": "2023-02-08T22:42:59.560343Z",
     "shell.execute_reply": "2023-02-08T22:42:59.559152Z"
    },
    "papermill": {
     "duration": 0.023378,
     "end_time": "2023-02-08T22:42:59.562666",
     "exception": false,
     "start_time": "2023-02-08T22:42:59.539288",
     "status": "completed"
    },
    "tags": []
   },
   "outputs": [
    {
     "data": {
      "application/javascript": [
       "parent.postMessage({\"jupyterEvent\": \"custom.exercise_interaction\", \"data\": {\"outcomeType\": 1, \"valueTowardsCompletion\": 1.0, \"interactionType\": 1, \"questionType\": 1, \"questionId\": \"1.1_InvestigateEquality\", \"learnToolsVersion\": \"0.3.4\", \"failureMessage\": \"\", \"exceptionClass\": \"\", \"trace\": \"\"}}, \"*\")"
      ],
      "text/plain": [
       "<IPython.core.display.Javascript object>"
      ]
     },
     "metadata": {},
     "output_type": "display_data"
    },
    {
     "data": {
      "text/markdown": [
       "<span style=\"color:#33cc33\">Correct</span>"
      ],
      "text/plain": [
       "Correct"
      ]
     },
     "metadata": {},
     "output_type": "display_data"
    }
   ],
   "source": [
    "# Fill in the line below: How many rows are in the training data?\n",
    "num_rows = 1168\n",
    "\n",
    "# Fill in the line below: How many columns in the training data\n",
    "# have missing values?\n",
    "num_cols_with_missing = 3\n",
    "\n",
    "# Fill in the line below: How many missing entries are contained in \n",
    "# all of the training data?\n",
    "tot_missing = 276\n",
    "\n",
    "# Check your answers\n",
    "step_1.a.check()"
   ]
  },
  {
   "cell_type": "code",
   "execution_count": 6,
   "id": "60687fb1",
   "metadata": {
    "execution": {
     "iopub.execute_input": "2023-02-08T22:42:59.583329Z",
     "iopub.status.busy": "2023-02-08T22:42:59.582687Z",
     "iopub.status.idle": "2023-02-08T22:42:59.587916Z",
     "shell.execute_reply": "2023-02-08T22:42:59.586608Z"
    },
    "papermill": {
     "duration": 0.01838,
     "end_time": "2023-02-08T22:42:59.590504",
     "exception": false,
     "start_time": "2023-02-08T22:42:59.572124",
     "status": "completed"
    },
    "tags": []
   },
   "outputs": [],
   "source": [
    "# Lines below will give you a hint or solution code\n",
    "#step_1.a.hint()\n",
    "#step_1.a.solution()"
   ]
  },
  {
   "cell_type": "markdown",
   "id": "b7f34f72",
   "metadata": {
    "papermill": {
     "duration": 0.009411,
     "end_time": "2023-02-08T22:42:59.609634",
     "exception": false,
     "start_time": "2023-02-08T22:42:59.600223",
     "status": "completed"
    },
    "tags": []
   },
   "source": [
    "### Part B\n",
    "Considering your answers above, what do you think is likely the best approach to dealing with the missing values?"
   ]
  },
  {
   "cell_type": "code",
   "execution_count": 7,
   "id": "5c54f88e",
   "metadata": {
    "execution": {
     "iopub.execute_input": "2023-02-08T22:42:59.631979Z",
     "iopub.status.busy": "2023-02-08T22:42:59.631552Z",
     "iopub.status.idle": "2023-02-08T22:42:59.640571Z",
     "shell.execute_reply": "2023-02-08T22:42:59.639686Z"
    },
    "papermill": {
     "duration": 0.022757,
     "end_time": "2023-02-08T22:42:59.642690",
     "exception": false,
     "start_time": "2023-02-08T22:42:59.619933",
     "status": "completed"
    },
    "tags": []
   },
   "outputs": [
    {
     "data": {
      "application/javascript": [
       "parent.postMessage({\"jupyterEvent\": \"custom.exercise_interaction\", \"data\": {\"outcomeType\": 1, \"valueTowardsCompletion\": 1.0, \"interactionType\": 1, \"questionType\": 4, \"questionId\": \"1.2_InvestigateThought\", \"learnToolsVersion\": \"0.3.4\", \"failureMessage\": \"\", \"exceptionClass\": \"\", \"trace\": \"\"}}, \"*\")"
      ],
      "text/plain": [
       "<IPython.core.display.Javascript object>"
      ]
     },
     "metadata": {},
     "output_type": "display_data"
    },
    {
     "data": {
      "text/markdown": [
       "<span style=\"color:#33cc33\">Correct:</span> \n",
       "\n",
       "Since there are relatively few missing entries in the data (the column with the greatest percentage of missing values is missing less than 20% of its entries), we can expect that dropping columns is unlikely to yield good results.  This is because we'd be throwing away a lot of valuable data, and so imputation will likely perform better."
      ],
      "text/plain": [
       "Correct: \n",
       "\n",
       "Since there are relatively few missing entries in the data (the column with the greatest percentage of missing values is missing less than 20% of its entries), we can expect that dropping columns is unlikely to yield good results.  This is because we'd be throwing away a lot of valuable data, and so imputation will likely perform better."
      ]
     },
     "metadata": {},
     "output_type": "display_data"
    }
   ],
   "source": [
    "# Check your answer (Run this code cell to receive credit!)\n",
    "step_1.b.check()"
   ]
  },
  {
   "cell_type": "code",
   "execution_count": 8,
   "id": "fa329e25",
   "metadata": {
    "execution": {
     "iopub.execute_input": "2023-02-08T22:42:59.663817Z",
     "iopub.status.busy": "2023-02-08T22:42:59.663421Z",
     "iopub.status.idle": "2023-02-08T22:42:59.668388Z",
     "shell.execute_reply": "2023-02-08T22:42:59.667188Z"
    },
    "papermill": {
     "duration": 0.018393,
     "end_time": "2023-02-08T22:42:59.670844",
     "exception": false,
     "start_time": "2023-02-08T22:42:59.652451",
     "status": "completed"
    },
    "tags": []
   },
   "outputs": [],
   "source": [
    "#step_1.b.hint()"
   ]
  },
  {
   "cell_type": "markdown",
   "id": "56e00f2e",
   "metadata": {
    "papermill": {
     "duration": 0.009313,
     "end_time": "2023-02-08T22:42:59.690047",
     "exception": false,
     "start_time": "2023-02-08T22:42:59.680734",
     "status": "completed"
    },
    "tags": []
   },
   "source": [
    "To compare different approaches to dealing with missing values, you'll use the same `score_dataset()` function from the tutorial.  This function reports the [mean absolute error](https://en.wikipedia.org/wiki/Mean_absolute_error) (MAE) from a random forest model."
   ]
  },
  {
   "cell_type": "code",
   "execution_count": 9,
   "id": "3f1bcc6d",
   "metadata": {
    "execution": {
     "iopub.execute_input": "2023-02-08T22:42:59.711517Z",
     "iopub.status.busy": "2023-02-08T22:42:59.711059Z",
     "iopub.status.idle": "2023-02-08T22:42:59.960327Z",
     "shell.execute_reply": "2023-02-08T22:42:59.959126Z"
    },
    "papermill": {
     "duration": 0.263061,
     "end_time": "2023-02-08T22:42:59.962958",
     "exception": false,
     "start_time": "2023-02-08T22:42:59.699897",
     "status": "completed"
    },
    "tags": []
   },
   "outputs": [],
   "source": [
    "from sklearn.ensemble import RandomForestRegressor\n",
    "from sklearn.metrics import mean_absolute_error\n",
    "\n",
    "# Function for comparing different approaches\n",
    "def score_dataset(X_train, X_valid, y_train, y_valid):\n",
    "    model = RandomForestRegressor(n_estimators=100, random_state=0)\n",
    "    model.fit(X_train, y_train)\n",
    "    preds = model.predict(X_valid)\n",
    "    return mean_absolute_error(y_valid, preds)"
   ]
  },
  {
   "cell_type": "markdown",
   "id": "6289e3f2",
   "metadata": {
    "papermill": {
     "duration": 0.009317,
     "end_time": "2023-02-08T22:42:59.982088",
     "exception": false,
     "start_time": "2023-02-08T22:42:59.972771",
     "status": "completed"
    },
    "tags": []
   },
   "source": [
    "# Step 2: Drop columns with missing values\n",
    "\n",
    "In this step, you'll preprocess the data in `X_train` and `X_valid` to remove columns with missing values.  Set the preprocessed DataFrames to `reduced_X_train` and `reduced_X_valid`, respectively.  "
   ]
  },
  {
   "cell_type": "code",
   "execution_count": 10,
   "id": "e54e60c7",
   "metadata": {
    "execution": {
     "iopub.execute_input": "2023-02-08T22:43:00.007475Z",
     "iopub.status.busy": "2023-02-08T22:43:00.006755Z",
     "iopub.status.idle": "2023-02-08T22:43:00.040908Z",
     "shell.execute_reply": "2023-02-08T22:43:00.040045Z"
    },
    "papermill": {
     "duration": 0.048972,
     "end_time": "2023-02-08T22:43:00.043325",
     "exception": false,
     "start_time": "2023-02-08T22:42:59.994353",
     "status": "completed"
    },
    "tags": []
   },
   "outputs": [
    {
     "data": {
      "application/javascript": [
       "parent.postMessage({\"jupyterEvent\": \"custom.exercise_interaction\", \"data\": {\"outcomeType\": 1, \"valueTowardsCompletion\": 1.0, \"interactionType\": 1, \"questionType\": 2, \"questionId\": \"2_DropMissing\", \"learnToolsVersion\": \"0.3.4\", \"failureMessage\": \"\", \"exceptionClass\": \"\", \"trace\": \"\"}}, \"*\")"
      ],
      "text/plain": [
       "<IPython.core.display.Javascript object>"
      ]
     },
     "metadata": {},
     "output_type": "display_data"
    },
    {
     "data": {
      "text/markdown": [
       "<span style=\"color:#33cc33\">Correct</span>"
      ],
      "text/plain": [
       "Correct"
      ]
     },
     "metadata": {},
     "output_type": "display_data"
    }
   ],
   "source": [
    "# Fill in the line below: get names of columns with missing values\n",
    "cols_with_missing = [col for col in X_train.columns\n",
    "                     if X_train[col].isnull().any()]# Your code here\n",
    "\n",
    "\n",
    "# Fill in the lines below: drop columns in training and validation data\n",
    "reduced_X_train = X_train.drop(cols_with_missing, axis=1)\n",
    "reduced_X_valid = X_valid.drop(cols_with_missing, axis=1)\n",
    "\n",
    "# Check your answers\n",
    "step_2.check()"
   ]
  },
  {
   "cell_type": "code",
   "execution_count": 11,
   "id": "dfbd8183",
   "metadata": {
    "execution": {
     "iopub.execute_input": "2023-02-08T22:43:00.065338Z",
     "iopub.status.busy": "2023-02-08T22:43:00.064886Z",
     "iopub.status.idle": "2023-02-08T22:43:00.069175Z",
     "shell.execute_reply": "2023-02-08T22:43:00.068287Z"
    },
    "papermill": {
     "duration": 0.017778,
     "end_time": "2023-02-08T22:43:00.071252",
     "exception": false,
     "start_time": "2023-02-08T22:43:00.053474",
     "status": "completed"
    },
    "tags": []
   },
   "outputs": [],
   "source": [
    "# Lines below will give you a hint or solution code\n",
    "#step_2.hint()\n",
    "#step_2.solution()"
   ]
  },
  {
   "cell_type": "markdown",
   "id": "e625a52f",
   "metadata": {
    "papermill": {
     "duration": 0.010114,
     "end_time": "2023-02-08T22:43:00.091430",
     "exception": false,
     "start_time": "2023-02-08T22:43:00.081316",
     "status": "completed"
    },
    "tags": []
   },
   "source": [
    "Run the next code cell without changes to obtain the MAE for this approach."
   ]
  },
  {
   "cell_type": "code",
   "execution_count": 12,
   "id": "382337f1",
   "metadata": {
    "execution": {
     "iopub.execute_input": "2023-02-08T22:43:00.114587Z",
     "iopub.status.busy": "2023-02-08T22:43:00.113974Z",
     "iopub.status.idle": "2023-02-08T22:43:01.262634Z",
     "shell.execute_reply": "2023-02-08T22:43:01.261282Z"
    },
    "papermill": {
     "duration": 1.164056,
     "end_time": "2023-02-08T22:43:01.266340",
     "exception": false,
     "start_time": "2023-02-08T22:43:00.102284",
     "status": "completed"
    },
    "tags": []
   },
   "outputs": [
    {
     "name": "stdout",
     "output_type": "stream",
     "text": [
      "MAE (Drop columns with missing values):\n",
      "17837.82570776256\n"
     ]
    }
   ],
   "source": [
    "print(\"MAE (Drop columns with missing values):\")\n",
    "print(score_dataset(reduced_X_train, reduced_X_valid, y_train, y_valid))"
   ]
  },
  {
   "cell_type": "markdown",
   "id": "2cd9a077",
   "metadata": {
    "papermill": {
     "duration": 0.010115,
     "end_time": "2023-02-08T22:43:01.286761",
     "exception": false,
     "start_time": "2023-02-08T22:43:01.276646",
     "status": "completed"
    },
    "tags": []
   },
   "source": [
    "# Step 3: Imputation\n",
    "\n",
    "### Part A\n",
    "\n",
    "Use the next code cell to impute missing values with the mean value along each column.  Set the preprocessed DataFrames to `imputed_X_train` and `imputed_X_valid`.  Make sure that the column names match those in `X_train` and `X_valid`."
   ]
  },
  {
   "cell_type": "code",
   "execution_count": 13,
   "id": "0c979d4a",
   "metadata": {
    "execution": {
     "iopub.execute_input": "2023-02-08T22:43:01.310536Z",
     "iopub.status.busy": "2023-02-08T22:43:01.310142Z",
     "iopub.status.idle": "2023-02-08T22:43:01.346380Z",
     "shell.execute_reply": "2023-02-08T22:43:01.345021Z"
    },
    "papermill": {
     "duration": 0.050712,
     "end_time": "2023-02-08T22:43:01.348884",
     "exception": false,
     "start_time": "2023-02-08T22:43:01.298172",
     "status": "completed"
    },
    "tags": []
   },
   "outputs": [
    {
     "data": {
      "application/javascript": [
       "parent.postMessage({\"jupyterEvent\": \"custom.exercise_interaction\", \"data\": {\"outcomeType\": 1, \"valueTowardsCompletion\": 1.0, \"interactionType\": 1, \"questionType\": 2, \"questionId\": \"3.1_ImputeCode\", \"learnToolsVersion\": \"0.3.4\", \"failureMessage\": \"\", \"exceptionClass\": \"\", \"trace\": \"\"}}, \"*\")"
      ],
      "text/plain": [
       "<IPython.core.display.Javascript object>"
      ]
     },
     "metadata": {},
     "output_type": "display_data"
    },
    {
     "data": {
      "text/markdown": [
       "<span style=\"color:#33cc33\">Correct</span>"
      ],
      "text/plain": [
       "Correct"
      ]
     },
     "metadata": {},
     "output_type": "display_data"
    }
   ],
   "source": [
    "from sklearn.impute import SimpleImputer\n",
    "\n",
    "# Fill in the lines below: imputation\n",
    "# Your code here\n",
    "\n",
    "my_imputer = SimpleImputer()    \n",
    "imputed_X_train = pd.DataFrame(my_imputer.fit_transform(X_train))\n",
    "imputed_X_valid = pd.DataFrame(my_imputer.transform(X_valid))\n",
    "\n",
    "# Fill in the lines below: imputation removed column names; put them back\n",
    "imputed_X_train.columns = X_train.columns\n",
    "imputed_X_valid.columns = X_valid.columns\n",
    "\n",
    "# Check your answers\n",
    "step_3.a.check()"
   ]
  },
  {
   "cell_type": "code",
   "execution_count": 14,
   "id": "cc8900c8",
   "metadata": {
    "execution": {
     "iopub.execute_input": "2023-02-08T22:43:01.372199Z",
     "iopub.status.busy": "2023-02-08T22:43:01.371664Z",
     "iopub.status.idle": "2023-02-08T22:43:01.376159Z",
     "shell.execute_reply": "2023-02-08T22:43:01.375237Z"
    },
    "papermill": {
     "duration": 0.018917,
     "end_time": "2023-02-08T22:43:01.378436",
     "exception": false,
     "start_time": "2023-02-08T22:43:01.359519",
     "status": "completed"
    },
    "tags": []
   },
   "outputs": [],
   "source": [
    "# Lines below will give you a hint or solution code\n",
    "#step_3.a.hint()\n",
    "#step_3.a.solution()"
   ]
  },
  {
   "cell_type": "markdown",
   "id": "503f645d",
   "metadata": {
    "papermill": {
     "duration": 0.009989,
     "end_time": "2023-02-08T22:43:01.399464",
     "exception": false,
     "start_time": "2023-02-08T22:43:01.389475",
     "status": "completed"
    },
    "tags": []
   },
   "source": [
    "Run the next code cell without changes to obtain the MAE for this approach."
   ]
  },
  {
   "cell_type": "code",
   "execution_count": 15,
   "id": "8f872b67",
   "metadata": {
    "execution": {
     "iopub.execute_input": "2023-02-08T22:43:01.424010Z",
     "iopub.status.busy": "2023-02-08T22:43:01.422866Z",
     "iopub.status.idle": "2023-02-08T22:43:02.668738Z",
     "shell.execute_reply": "2023-02-08T22:43:02.667434Z"
    },
    "papermill": {
     "duration": 1.262866,
     "end_time": "2023-02-08T22:43:02.673706",
     "exception": false,
     "start_time": "2023-02-08T22:43:01.410840",
     "status": "completed"
    },
    "tags": []
   },
   "outputs": [
    {
     "name": "stdout",
     "output_type": "stream",
     "text": [
      "MAE (Imputation):\n",
      "18062.894611872147\n"
     ]
    }
   ],
   "source": [
    "print(\"MAE (Imputation):\")\n",
    "print(score_dataset(imputed_X_train, imputed_X_valid, y_train, y_valid))"
   ]
  },
  {
   "cell_type": "markdown",
   "id": "63acf03d",
   "metadata": {
    "papermill": {
     "duration": 0.010325,
     "end_time": "2023-02-08T22:43:02.695022",
     "exception": false,
     "start_time": "2023-02-08T22:43:02.684697",
     "status": "completed"
    },
    "tags": []
   },
   "source": [
    "### Part B\n",
    "\n",
    "Compare the MAE from each approach.  Does anything surprise you about the results?  Why do you think one approach performed better than the other?"
   ]
  },
  {
   "cell_type": "code",
   "execution_count": 16,
   "id": "fb0f9ac7",
   "metadata": {
    "execution": {
     "iopub.execute_input": "2023-02-08T22:43:02.719775Z",
     "iopub.status.busy": "2023-02-08T22:43:02.718322Z",
     "iopub.status.idle": "2023-02-08T22:43:02.731277Z",
     "shell.execute_reply": "2023-02-08T22:43:02.729608Z"
    },
    "papermill": {
     "duration": 0.028024,
     "end_time": "2023-02-08T22:43:02.733885",
     "exception": false,
     "start_time": "2023-02-08T22:43:02.705861",
     "status": "completed"
    },
    "tags": []
   },
   "outputs": [
    {
     "data": {
      "application/javascript": [
       "parent.postMessage({\"jupyterEvent\": \"custom.exercise_interaction\", \"data\": {\"outcomeType\": 1, \"valueTowardsCompletion\": 1.0, \"interactionType\": 1, \"questionType\": 4, \"questionId\": \"3.2_ImputeThought\", \"learnToolsVersion\": \"0.3.4\", \"failureMessage\": \"\", \"exceptionClass\": \"\", \"trace\": \"\"}}, \"*\")"
      ],
      "text/plain": [
       "<IPython.core.display.Javascript object>"
      ]
     },
     "metadata": {},
     "output_type": "display_data"
    },
    {
     "data": {
      "text/markdown": [
       "<span style=\"color:#33cc33\">Correct:</span> \n",
       "\n",
       "Given that thre are so few missing values in the dataset, we'd expect imputation to perform better than dropping columns entirely.  However, we see that dropping columns performs slightly better!  While this can probably partially be attributed to noise in the dataset, another potential explanation is that the imputation method is not a great match to this dataset.  That is, maybe instead of filling in the mean value, it makes more sense to set every missing value to a value of 0, to fill in the most frequently encountered value, or to use some other method.  For instance, consider the `GarageYrBlt` column (which indicates the year that the garage was built).  It's likely that in some cases, a missing value could indicate a house that does not have a garage.  Does it make more sense to fill in the median value along each column in this case?  Or could we get better results by filling in the minimum value along each column?  It's not quite clear what's best in this case, but perhaps we can rule out some options immediately - for instance, setting missing values in this column to 0 is likely to yield horrible results!"
      ],
      "text/plain": [
       "Correct: \n",
       "\n",
       "Given that thre are so few missing values in the dataset, we'd expect imputation to perform better than dropping columns entirely.  However, we see that dropping columns performs slightly better!  While this can probably partially be attributed to noise in the dataset, another potential explanation is that the imputation method is not a great match to this dataset.  That is, maybe instead of filling in the mean value, it makes more sense to set every missing value to a value of 0, to fill in the most frequently encountered value, or to use some other method.  For instance, consider the `GarageYrBlt` column (which indicates the year that the garage was built).  It's likely that in some cases, a missing value could indicate a house that does not have a garage.  Does it make more sense to fill in the median value along each column in this case?  Or could we get better results by filling in the minimum value along each column?  It's not quite clear what's best in this case, but perhaps we can rule out some options immediately - for instance, setting missing values in this column to 0 is likely to yield horrible results!"
      ]
     },
     "metadata": {},
     "output_type": "display_data"
    }
   ],
   "source": [
    "# Check your answer (Run this code cell to receive credit!)\n",
    "step_3.b.check()"
   ]
  },
  {
   "cell_type": "code",
   "execution_count": 17,
   "id": "5c71d17b",
   "metadata": {
    "execution": {
     "iopub.execute_input": "2023-02-08T22:43:02.759436Z",
     "iopub.status.busy": "2023-02-08T22:43:02.757913Z",
     "iopub.status.idle": "2023-02-08T22:43:02.763321Z",
     "shell.execute_reply": "2023-02-08T22:43:02.762345Z"
    },
    "papermill": {
     "duration": 0.020596,
     "end_time": "2023-02-08T22:43:02.765768",
     "exception": false,
     "start_time": "2023-02-08T22:43:02.745172",
     "status": "completed"
    },
    "tags": []
   },
   "outputs": [],
   "source": [
    "#step_3.b.hint()"
   ]
  },
  {
   "cell_type": "markdown",
   "id": "83b4ee85",
   "metadata": {
    "papermill": {
     "duration": 0.010493,
     "end_time": "2023-02-08T22:43:02.787788",
     "exception": false,
     "start_time": "2023-02-08T22:43:02.777295",
     "status": "completed"
    },
    "tags": []
   },
   "source": [
    "# Step 4: Generate test predictions\n",
    "\n",
    "In this final step, you'll use any approach of your choosing to deal with missing values.  Once you've preprocessed the training and validation features, you'll train and evaluate a random forest model.  Then, you'll preprocess the test data before generating predictions that can be submitted to the competition!\n",
    "\n",
    "### Part A\n",
    "\n",
    "Use the next code cell to preprocess the training and validation data.  Set the preprocessed DataFrames to `final_X_train` and `final_X_valid`.  **You can use any approach of your choosing here!**  in order for this step to be marked as correct, you need only ensure:\n",
    "- the preprocessed DataFrames have the same number of columns,\n",
    "- the preprocessed DataFrames have no missing values, \n",
    "- `final_X_train` and `y_train` have the same number of rows, and\n",
    "- `final_X_valid` and `y_valid` have the same number of rows."
   ]
  },
  {
   "cell_type": "code",
   "execution_count": 18,
   "id": "81af5bef",
   "metadata": {
    "execution": {
     "iopub.execute_input": "2023-02-08T22:43:02.813094Z",
     "iopub.status.busy": "2023-02-08T22:43:02.811847Z",
     "iopub.status.idle": "2023-02-08T22:43:02.841486Z",
     "shell.execute_reply": "2023-02-08T22:43:02.840410Z"
    },
    "papermill": {
     "duration": 0.044134,
     "end_time": "2023-02-08T22:43:02.843862",
     "exception": false,
     "start_time": "2023-02-08T22:43:02.799728",
     "status": "completed"
    },
    "tags": []
   },
   "outputs": [
    {
     "data": {
      "application/javascript": [
       "parent.postMessage({\"jupyterEvent\": \"custom.exercise_interaction\", \"data\": {\"outcomeType\": 1, \"valueTowardsCompletion\": 1.0, \"interactionType\": 1, \"questionType\": 2, \"questionId\": \"4.1_PredsCodeA\", \"learnToolsVersion\": \"0.3.4\", \"failureMessage\": \"\", \"exceptionClass\": \"\", \"trace\": \"\"}}, \"*\")"
      ],
      "text/plain": [
       "<IPython.core.display.Javascript object>"
      ]
     },
     "metadata": {},
     "output_type": "display_data"
    },
    {
     "data": {
      "text/markdown": [
       "<span style=\"color:#33cc33\">Correct</span>"
      ],
      "text/plain": [
       "Correct"
      ]
     },
     "metadata": {},
     "output_type": "display_data"
    }
   ],
   "source": [
    "# Preprocessed training and validation features\n",
    "from sklearn.impute import SimpleImputer\n",
    "my_imputer = SimpleImputer()    \n",
    "final_X_train = pd.DataFrame(my_imputer.fit_transform(X_train))\n",
    "final_X_valid = pd.DataFrame(my_imputer.transform(X_valid))\n",
    "\n",
    "# Check your answers\n",
    "step_4.a.check()"
   ]
  },
  {
   "cell_type": "code",
   "execution_count": 19,
   "id": "25b1aabb",
   "metadata": {
    "execution": {
     "iopub.execute_input": "2023-02-08T22:43:02.867820Z",
     "iopub.status.busy": "2023-02-08T22:43:02.867421Z",
     "iopub.status.idle": "2023-02-08T22:43:02.872193Z",
     "shell.execute_reply": "2023-02-08T22:43:02.870900Z"
    },
    "papermill": {
     "duration": 0.019832,
     "end_time": "2023-02-08T22:43:02.874871",
     "exception": false,
     "start_time": "2023-02-08T22:43:02.855039",
     "status": "completed"
    },
    "tags": []
   },
   "outputs": [],
   "source": [
    "# Lines below will give you a hint or solution code\n",
    "#step_4.a.hint()\n",
    "#step_4.a.solution()"
   ]
  },
  {
   "cell_type": "markdown",
   "id": "1fcc99c7",
   "metadata": {
    "papermill": {
     "duration": 0.010768,
     "end_time": "2023-02-08T22:43:02.897160",
     "exception": false,
     "start_time": "2023-02-08T22:43:02.886392",
     "status": "completed"
    },
    "tags": []
   },
   "source": [
    "Run the next code cell to train and evaluate a random forest model.  (*Note that we don't use the `score_dataset()` function above, because we will soon use the trained model to generate test predictions!*)"
   ]
  },
  {
   "cell_type": "code",
   "execution_count": 20,
   "id": "861f0d37",
   "metadata": {
    "execution": {
     "iopub.execute_input": "2023-02-08T22:43:02.921560Z",
     "iopub.status.busy": "2023-02-08T22:43:02.920756Z",
     "iopub.status.idle": "2023-02-08T22:43:04.151648Z",
     "shell.execute_reply": "2023-02-08T22:43:04.150303Z"
    },
    "papermill": {
     "duration": 1.246714,
     "end_time": "2023-02-08T22:43:04.155011",
     "exception": false,
     "start_time": "2023-02-08T22:43:02.908297",
     "status": "completed"
    },
    "tags": []
   },
   "outputs": [
    {
     "name": "stdout",
     "output_type": "stream",
     "text": [
      "MAE (Your approach):\n",
      "18062.894611872147\n"
     ]
    }
   ],
   "source": [
    "# Define and fit model\n",
    "model = RandomForestRegressor(n_estimators=100, random_state=0)\n",
    "model.fit(final_X_train, y_train)\n",
    "\n",
    "# Get validation predictions and MAE\n",
    "preds_valid = model.predict(final_X_valid)\n",
    "print(\"MAE (Your approach):\")\n",
    "print(mean_absolute_error(y_valid, preds_valid))"
   ]
  },
  {
   "cell_type": "markdown",
   "id": "9072f08e",
   "metadata": {
    "papermill": {
     "duration": 0.010716,
     "end_time": "2023-02-08T22:43:04.177015",
     "exception": false,
     "start_time": "2023-02-08T22:43:04.166299",
     "status": "completed"
    },
    "tags": []
   },
   "source": [
    "### Part B\n",
    "\n",
    "Use the next code cell to preprocess your test data.  Make sure that you use a method that agrees with how you preprocessed the training and validation data, and set the preprocessed test features to `final_X_test`.\n",
    "\n",
    "Then, use the preprocessed test features and the trained model to generate test predictions in `preds_test`.\n",
    "\n",
    "In order for this step to be marked correct, you need only ensure:\n",
    "- the preprocessed test DataFrame has no missing values, and\n",
    "- `final_X_test` has the same number of rows as `X_test`."
   ]
  },
  {
   "cell_type": "code",
   "execution_count": 21,
   "id": "4d7406b8",
   "metadata": {
    "execution": {
     "iopub.execute_input": "2023-02-08T22:43:04.202140Z",
     "iopub.status.busy": "2023-02-08T22:43:04.201133Z",
     "iopub.status.idle": "2023-02-08T22:43:04.259834Z",
     "shell.execute_reply": "2023-02-08T22:43:04.258453Z"
    },
    "papermill": {
     "duration": 0.073999,
     "end_time": "2023-02-08T22:43:04.262283",
     "exception": false,
     "start_time": "2023-02-08T22:43:04.188284",
     "status": "completed"
    },
    "tags": []
   },
   "outputs": [
    {
     "data": {
      "application/javascript": [
       "parent.postMessage({\"jupyterEvent\": \"custom.exercise_interaction\", \"data\": {\"outcomeType\": 1, \"valueTowardsCompletion\": 1.0, \"interactionType\": 1, \"questionType\": 2, \"questionId\": \"4.2_PredsCodeB\", \"learnToolsVersion\": \"0.3.4\", \"failureMessage\": \"\", \"exceptionClass\": \"\", \"trace\": \"\"}}, \"*\")"
      ],
      "text/plain": [
       "<IPython.core.display.Javascript object>"
      ]
     },
     "metadata": {},
     "output_type": "display_data"
    },
    {
     "data": {
      "text/markdown": [
       "<span style=\"color:#33cc33\">Correct</span>"
      ],
      "text/plain": [
       "Correct"
      ]
     },
     "metadata": {},
     "output_type": "display_data"
    }
   ],
   "source": [
    "# Fill in the line below: preprocess test data\n",
    "final_X_test = pd.DataFrame(my_imputer.fit_transform(X_test))\n",
    "\n",
    "# Fill in the line below: get test predictions\n",
    "preds_test = model.predict(final_X_test)\n",
    "\n",
    "# Check your answers\n",
    "step_4.b.check()"
   ]
  },
  {
   "cell_type": "code",
   "execution_count": 22,
   "id": "1e15608e",
   "metadata": {
    "execution": {
     "iopub.execute_input": "2023-02-08T22:43:04.287767Z",
     "iopub.status.busy": "2023-02-08T22:43:04.287035Z",
     "iopub.status.idle": "2023-02-08T22:43:04.292268Z",
     "shell.execute_reply": "2023-02-08T22:43:04.291126Z"
    },
    "papermill": {
     "duration": 0.020541,
     "end_time": "2023-02-08T22:43:04.294722",
     "exception": false,
     "start_time": "2023-02-08T22:43:04.274181",
     "status": "completed"
    },
    "tags": []
   },
   "outputs": [],
   "source": [
    "# Lines below will give you a hint or solution code\n",
    "#step_4.b.hint()\n",
    "#step_4.b.solution()"
   ]
  },
  {
   "cell_type": "markdown",
   "id": "d05061be",
   "metadata": {
    "papermill": {
     "duration": 0.011116,
     "end_time": "2023-02-08T22:43:04.317572",
     "exception": false,
     "start_time": "2023-02-08T22:43:04.306456",
     "status": "completed"
    },
    "tags": []
   },
   "source": [
    "Run the next code cell without changes to save your results to a CSV file that can be submitted directly to the competition."
   ]
  },
  {
   "cell_type": "code",
   "execution_count": 23,
   "id": "be32702b",
   "metadata": {
    "execution": {
     "iopub.execute_input": "2023-02-08T22:43:04.341891Z",
     "iopub.status.busy": "2023-02-08T22:43:04.341479Z",
     "iopub.status.idle": "2023-02-08T22:43:04.354148Z",
     "shell.execute_reply": "2023-02-08T22:43:04.352623Z"
    },
    "papermill": {
     "duration": 0.027927,
     "end_time": "2023-02-08T22:43:04.356880",
     "exception": false,
     "start_time": "2023-02-08T22:43:04.328953",
     "status": "completed"
    },
    "tags": []
   },
   "outputs": [],
   "source": [
    "# Save test predictions to file\n",
    "output = pd.DataFrame({'Id': X_test.index,\n",
    "                       'SalePrice': preds_test})\n",
    "output.to_csv('submission.csv', index=False)"
   ]
  },
  {
   "cell_type": "markdown",
   "id": "70d81b78",
   "metadata": {
    "papermill": {
     "duration": 0.011158,
     "end_time": "2023-02-08T22:43:04.379994",
     "exception": false,
     "start_time": "2023-02-08T22:43:04.368836",
     "status": "completed"
    },
    "tags": []
   },
   "source": [
    "# Submit your results\n",
    "\n",
    "Once you have successfully completed Step 4, you're ready to submit your results to the leaderboard!  (_You also learned how to do this in the previous exercise.  If you need a reminder of how to do this, please use the instructions below._)  \n",
    "\n",
    "First, you'll need to join the competition if you haven't already.  So open a new window by clicking on [this link](https://www.kaggle.com/c/home-data-for-ml-course).  Then click on the **Join Competition** button.\n",
    "\n",
    "![join competition image](https://i.imgur.com/wLmFtH3.png)\n",
    "\n",
    "Next, follow the instructions below:\n",
    "1. Begin by clicking on the **Save Version** button in the top right corner of the window.  This will generate a pop-up window.  \n",
    "2. Ensure that the **Save and Run All** option is selected, and then click on the **Save** button.\n",
    "3. This generates a window in the bottom left corner of the notebook.  After it has finished running, click on the number to the right of the **Save Version** button.  This pulls up a list of versions on the right of the screen.  Click on the ellipsis **(...)** to the right of the most recent version, and select **Open in Viewer**.  This brings you into view mode of the same page. You will need to scroll down to get back to these instructions.\n",
    "4. Click on the **Output** tab on the right of the screen.  Then, click on the file you would like to submit, and click on the **Submit** button to submit your results to the leaderboard.\n",
    "\n",
    "You have now successfully submitted to the competition!\n",
    "\n",
    "If you want to keep working to improve your performance, select the **Edit** button in the top right of the screen. Then you can change your code and repeat the process. There's a lot of room to improve, and you will climb up the leaderboard as you work.\n",
    "\n",
    "\n",
    "# Keep going\n",
    "\n",
    "Move on to learn what **[categorical variables](https://www.kaggle.com/alexisbcook/categorical-variables)** are, along with how to incorporate them into your machine learning models.  Categorical variables are very common in real-world data, but you'll get an error if you try to plug them into your models without processing them first!"
   ]
  },
  {
   "cell_type": "markdown",
   "id": "de872211",
   "metadata": {
    "papermill": {
     "duration": 0.011071,
     "end_time": "2023-02-08T22:43:04.402668",
     "exception": false,
     "start_time": "2023-02-08T22:43:04.391597",
     "status": "completed"
    },
    "tags": []
   },
   "source": [
    "---\n",
    "\n",
    "\n",
    "\n",
    "\n",
    "*Have questions or comments? Visit the [course discussion forum](https://www.kaggle.com/learn/intermediate-machine-learning/discussion) to chat with other learners.*"
   ]
  }
 ],
 "metadata": {
  "kernelspec": {
   "display_name": "Python 3",
   "language": "python",
   "name": "python3"
  },
  "language_info": {
   "codemirror_mode": {
    "name": "ipython",
    "version": 3
   },
   "file_extension": ".py",
   "mimetype": "text/x-python",
   "name": "python",
   "nbconvert_exporter": "python",
   "pygments_lexer": "ipython3",
   "version": "3.7.12"
  },
  "papermill": {
   "default_parameters": {},
   "duration": 15.930334,
   "end_time": "2023-02-08T22:43:05.135864",
   "environment_variables": {},
   "exception": null,
   "input_path": "__notebook__.ipynb",
   "output_path": "__notebook__.ipynb",
   "parameters": {},
   "start_time": "2023-02-08T22:42:49.205530",
   "version": "2.3.4"
  }
 },
 "nbformat": 4,
 "nbformat_minor": 5
}
