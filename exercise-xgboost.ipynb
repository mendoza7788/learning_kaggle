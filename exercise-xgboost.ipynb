{
 "cells": [
  {
   "cell_type": "markdown",
   "id": "019f178e",
   "metadata": {
    "papermill": {
     "duration": 0.006277,
     "end_time": "2023-02-10T13:33:22.916746",
     "exception": false,
     "start_time": "2023-02-10T13:33:22.910469",
     "status": "completed"
    },
    "tags": []
   },
   "source": [
    "**This notebook is an exercise in the [Intermediate Machine Learning](https://www.kaggle.com/learn/intermediate-machine-learning) course.  You can reference the tutorial at [this link](https://www.kaggle.com/alexisbcook/xgboost).**\n",
    "\n",
    "---\n"
   ]
  },
  {
   "cell_type": "markdown",
   "id": "993c549b",
   "metadata": {
    "papermill": {
     "duration": 0.004747,
     "end_time": "2023-02-10T13:33:22.926856",
     "exception": false,
     "start_time": "2023-02-10T13:33:22.922109",
     "status": "completed"
    },
    "tags": []
   },
   "source": [
    "In this exercise, you will use your new knowledge to train a model with **gradient boosting**.\n",
    "\n",
    "# Setup\n",
    "\n",
    "The questions below will give you feedback on your work. Run the following cell to set up the feedback system."
   ]
  },
  {
   "cell_type": "code",
   "execution_count": 1,
   "id": "7c2d9c3c",
   "metadata": {
    "execution": {
     "iopub.execute_input": "2023-02-10T13:33:22.939824Z",
     "iopub.status.busy": "2023-02-10T13:33:22.939170Z",
     "iopub.status.idle": "2023-02-10T13:33:25.674415Z",
     "shell.execute_reply": "2023-02-10T13:33:25.672541Z"
    },
    "papermill": {
     "duration": 2.74664,
     "end_time": "2023-02-10T13:33:25.678562",
     "exception": false,
     "start_time": "2023-02-10T13:33:22.931922",
     "status": "completed"
    },
    "tags": []
   },
   "outputs": [
    {
     "name": "stdout",
     "output_type": "stream",
     "text": [
      "Setup Complete\n"
     ]
    }
   ],
   "source": [
    "# Set up code checking\n",
    "import os\n",
    "if not os.path.exists(\"../input/train.csv\"):\n",
    "    os.symlink(\"../input/home-data-for-ml-course/train.csv\", \"../input/train.csv\")  \n",
    "    os.symlink(\"../input/home-data-for-ml-course/test.csv\", \"../input/test.csv\") \n",
    "from learntools.core import binder\n",
    "binder.bind(globals())\n",
    "from learntools.ml_intermediate.ex6 import *\n",
    "print(\"Setup Complete\")"
   ]
  },
  {
   "cell_type": "markdown",
   "id": "b1827f6d",
   "metadata": {
    "papermill": {
     "duration": 0.005075,
     "end_time": "2023-02-10T13:33:25.689333",
     "exception": false,
     "start_time": "2023-02-10T13:33:25.684258",
     "status": "completed"
    },
    "tags": []
   },
   "source": [
    "You will work with the [Housing Prices Competition for Kaggle Learn Users](https://www.kaggle.com/c/home-data-for-ml-course) dataset from the previous exercise. \n",
    "\n",
    "![Ames Housing dataset image](https://i.imgur.com/lTJVG4e.png)\n",
    "\n",
    "Run the next code cell without changes to load the training and validation sets in `X_train`, `X_valid`, `y_train`, and `y_valid`.  The test set is loaded in `X_test`."
   ]
  },
  {
   "cell_type": "code",
   "execution_count": 2,
   "id": "efc3950b",
   "metadata": {
    "execution": {
     "iopub.execute_input": "2023-02-10T13:33:25.701528Z",
     "iopub.status.busy": "2023-02-10T13:33:25.701096Z",
     "iopub.status.idle": "2023-02-10T13:33:25.900407Z",
     "shell.execute_reply": "2023-02-10T13:33:25.899133Z"
    },
    "papermill": {
     "duration": 0.209167,
     "end_time": "2023-02-10T13:33:25.903542",
     "exception": false,
     "start_time": "2023-02-10T13:33:25.694375",
     "status": "completed"
    },
    "tags": []
   },
   "outputs": [],
   "source": [
    "import pandas as pd\n",
    "from sklearn.model_selection import train_test_split\n",
    "\n",
    "# Read the data\n",
    "X = pd.read_csv('../input/train.csv', index_col='Id')\n",
    "X_test_full = pd.read_csv('../input/test.csv', index_col='Id')\n",
    "\n",
    "# Remove rows with missing target, separate target from predictors\n",
    "X.dropna(axis=0, subset=['SalePrice'], inplace=True)\n",
    "y = X.SalePrice              \n",
    "X.drop(['SalePrice'], axis=1, inplace=True)\n",
    "\n",
    "# Break off validation set from training data\n",
    "X_train_full, X_valid_full, y_train, y_valid = train_test_split(X, y, train_size=0.8, test_size=0.2,\n",
    "                                                                random_state=0)\n",
    "\n",
    "# \"Cardinality\" means the number of unique values in a column\n",
    "# Select categorical columns with relatively low cardinality (convenient but arbitrary)\n",
    "low_cardinality_cols = [cname for cname in X_train_full.columns if X_train_full[cname].nunique() < 10 and \n",
    "                        X_train_full[cname].dtype == \"object\"]\n",
    "\n",
    "# Select numeric columns\n",
    "numeric_cols = [cname for cname in X_train_full.columns if X_train_full[cname].dtype in ['int64', 'float64']]\n",
    "\n",
    "# Keep selected columns only\n",
    "my_cols = low_cardinality_cols + numeric_cols\n",
    "X_train = X_train_full[my_cols].copy()\n",
    "X_valid = X_valid_full[my_cols].copy()\n",
    "X_test = X_test_full[my_cols].copy()\n",
    "\n",
    "# One-hot encode the data (to shorten the code, we use pandas)\n",
    "X_train = pd.get_dummies(X_train)\n",
    "X_valid = pd.get_dummies(X_valid)\n",
    "X_test = pd.get_dummies(X_test)\n",
    "X_train, X_valid = X_train.align(X_valid, join='left', axis=1)\n",
    "X_train, X_test = X_train.align(X_test, join='left', axis=1)"
   ]
  },
  {
   "cell_type": "markdown",
   "id": "f607b257",
   "metadata": {
    "papermill": {
     "duration": 0.004881,
     "end_time": "2023-02-10T13:33:25.913713",
     "exception": false,
     "start_time": "2023-02-10T13:33:25.908832",
     "status": "completed"
    },
    "tags": []
   },
   "source": [
    "# Step 1: Build model\n",
    "\n",
    "### Part A\n",
    "\n",
    "In this step, you'll build and train your first model with gradient boosting.\n",
    "\n",
    "- Begin by setting `my_model_1` to an XGBoost model.  Use the [XGBRegressor](https://xgboost.readthedocs.io/en/latest/python/python_api.html#xgboost.XGBRegressor) class, and set the random seed to 0 (`random_state=0`).  **Leave all other parameters as default.**\n",
    "- Then, fit the model to the training data in `X_train` and `y_train`."
   ]
  },
  {
   "cell_type": "code",
   "execution_count": 3,
   "id": "18624682",
   "metadata": {
    "execution": {
     "iopub.execute_input": "2023-02-10T13:33:25.925937Z",
     "iopub.status.busy": "2023-02-10T13:33:25.925469Z",
     "iopub.status.idle": "2023-02-10T13:33:26.909753Z",
     "shell.execute_reply": "2023-02-10T13:33:26.908877Z"
    },
    "papermill": {
     "duration": 0.99318,
     "end_time": "2023-02-10T13:33:26.912095",
     "exception": false,
     "start_time": "2023-02-10T13:33:25.918915",
     "status": "completed"
    },
    "tags": []
   },
   "outputs": [
    {
     "data": {
      "application/javascript": [
       "parent.postMessage({\"jupyterEvent\": \"custom.exercise_interaction\", \"data\": {\"outcomeType\": 1, \"valueTowardsCompletion\": 0.5, \"interactionType\": 1, \"questionType\": 2, \"questionId\": \"1.1_Model1A\", \"learnToolsVersion\": \"0.3.4\", \"failureMessage\": \"\", \"exceptionClass\": \"\", \"trace\": \"\"}}, \"*\")"
      ],
      "text/plain": [
       "<IPython.core.display.Javascript object>"
      ]
     },
     "metadata": {},
     "output_type": "display_data"
    },
    {
     "data": {
      "text/markdown": [
       "<span style=\"color:#33cc33\">Correct</span>"
      ],
      "text/plain": [
       "Correct"
      ]
     },
     "metadata": {},
     "output_type": "display_data"
    }
   ],
   "source": [
    "from xgboost import XGBRegressor\n",
    "\n",
    "# Define the model\n",
    "my_model_1 = XGBRegressor(random_state=0) # Your code here\n",
    "\n",
    "# Fit the model\n",
    "my_model_1.fit(X_train, y_train) # Your code here\n",
    "\n",
    "# Check your answer\n",
    "step_1.a.check()"
   ]
  },
  {
   "cell_type": "code",
   "execution_count": 4,
   "id": "1c85ca19",
   "metadata": {
    "execution": {
     "iopub.execute_input": "2023-02-10T13:33:26.925512Z",
     "iopub.status.busy": "2023-02-10T13:33:26.924536Z",
     "iopub.status.idle": "2023-02-10T13:33:26.929349Z",
     "shell.execute_reply": "2023-02-10T13:33:26.928389Z"
    },
    "papermill": {
     "duration": 0.013639,
     "end_time": "2023-02-10T13:33:26.931384",
     "exception": false,
     "start_time": "2023-02-10T13:33:26.917745",
     "status": "completed"
    },
    "tags": []
   },
   "outputs": [],
   "source": [
    "# Lines below will give you a hint or solution code\n",
    "#step_1.a.hint()\n",
    "#step_1.a.solution()"
   ]
  },
  {
   "cell_type": "markdown",
   "id": "8d29eac2",
   "metadata": {
    "papermill": {
     "duration": 0.005066,
     "end_time": "2023-02-10T13:33:26.942003",
     "exception": false,
     "start_time": "2023-02-10T13:33:26.936937",
     "status": "completed"
    },
    "tags": []
   },
   "source": [
    "### Part B\n",
    "\n",
    "Set `predictions_1` to the model's predictions for the validation data.  Recall that the validation features are stored in `X_valid`."
   ]
  },
  {
   "cell_type": "code",
   "execution_count": 5,
   "id": "6aba2bc3",
   "metadata": {
    "execution": {
     "iopub.execute_input": "2023-02-10T13:33:26.954435Z",
     "iopub.status.busy": "2023-02-10T13:33:26.953983Z",
     "iopub.status.idle": "2023-02-10T13:33:26.977550Z",
     "shell.execute_reply": "2023-02-10T13:33:26.976585Z"
    },
    "papermill": {
     "duration": 0.032995,
     "end_time": "2023-02-10T13:33:26.980318",
     "exception": false,
     "start_time": "2023-02-10T13:33:26.947323",
     "status": "completed"
    },
    "tags": []
   },
   "outputs": [
    {
     "data": {
      "application/javascript": [
       "parent.postMessage({\"jupyterEvent\": \"custom.exercise_interaction\", \"data\": {\"outcomeType\": 1, \"valueTowardsCompletion\": 0.5, \"interactionType\": 1, \"questionType\": 2, \"questionId\": \"1.2_Model1B\", \"learnToolsVersion\": \"0.3.4\", \"failureMessage\": \"\", \"exceptionClass\": \"\", \"trace\": \"\"}}, \"*\")"
      ],
      "text/plain": [
       "<IPython.core.display.Javascript object>"
      ]
     },
     "metadata": {},
     "output_type": "display_data"
    },
    {
     "data": {
      "text/markdown": [
       "<span style=\"color:#33cc33\">Correct</span>"
      ],
      "text/plain": [
       "Correct"
      ]
     },
     "metadata": {},
     "output_type": "display_data"
    }
   ],
   "source": [
    "from sklearn.metrics import mean_absolute_error\n",
    "\n",
    "# Get predictions\n",
    "predictions_1 = my_model_1.predict(X_valid) # Your code here\n",
    "\n",
    "# Check your answer\n",
    "step_1.b.check()"
   ]
  },
  {
   "cell_type": "code",
   "execution_count": 6,
   "id": "dd45f980",
   "metadata": {
    "execution": {
     "iopub.execute_input": "2023-02-10T13:33:26.994543Z",
     "iopub.status.busy": "2023-02-10T13:33:26.994146Z",
     "iopub.status.idle": "2023-02-10T13:33:26.998996Z",
     "shell.execute_reply": "2023-02-10T13:33:26.997908Z"
    },
    "papermill": {
     "duration": 0.0144,
     "end_time": "2023-02-10T13:33:27.001427",
     "exception": false,
     "start_time": "2023-02-10T13:33:26.987027",
     "status": "completed"
    },
    "tags": []
   },
   "outputs": [],
   "source": [
    "# Lines below will give you a hint or solution code\n",
    "#step_1.b.hint()\n",
    "#step_1.b.solution()"
   ]
  },
  {
   "cell_type": "markdown",
   "id": "f009eb85",
   "metadata": {
    "papermill": {
     "duration": 0.005408,
     "end_time": "2023-02-10T13:33:27.012647",
     "exception": false,
     "start_time": "2023-02-10T13:33:27.007239",
     "status": "completed"
    },
    "tags": []
   },
   "source": [
    "### Part C\n",
    "\n",
    "Finally, use the `mean_absolute_error()` function to calculate the mean absolute error (MAE) corresponding to the predictions for the validation set.  Recall that the labels for the validation data are stored in `y_valid`."
   ]
  },
  {
   "cell_type": "code",
   "execution_count": 7,
   "id": "87d55518",
   "metadata": {
    "execution": {
     "iopub.execute_input": "2023-02-10T13:33:27.026581Z",
     "iopub.status.busy": "2023-02-10T13:33:27.026177Z",
     "iopub.status.idle": "2023-02-10T13:33:27.038040Z",
     "shell.execute_reply": "2023-02-10T13:33:27.036986Z"
    },
    "papermill": {
     "duration": 0.022178,
     "end_time": "2023-02-10T13:33:27.040711",
     "exception": false,
     "start_time": "2023-02-10T13:33:27.018533",
     "status": "completed"
    },
    "tags": []
   },
   "outputs": [
    {
     "name": "stdout",
     "output_type": "stream",
     "text": [
      "Mean Absolute Error: 17662.736729452055\n"
     ]
    },
    {
     "data": {
      "application/javascript": [
       "parent.postMessage({\"jupyterEvent\": \"custom.exercise_interaction\", \"data\": {\"outcomeType\": 1, \"valueTowardsCompletion\": 0.5, \"interactionType\": 1, \"questionType\": 2, \"questionId\": \"1.3_Model1C\", \"learnToolsVersion\": \"0.3.4\", \"failureMessage\": \"\", \"exceptionClass\": \"\", \"trace\": \"\"}}, \"*\")"
      ],
      "text/plain": [
       "<IPython.core.display.Javascript object>"
      ]
     },
     "metadata": {},
     "output_type": "display_data"
    },
    {
     "data": {
      "text/markdown": [
       "<span style=\"color:#33cc33\">Correct</span>"
      ],
      "text/plain": [
       "Correct"
      ]
     },
     "metadata": {},
     "output_type": "display_data"
    }
   ],
   "source": [
    "from sklearn.metrics import mean_absolute_error\n",
    "\n",
    "# Calculate MAE\n",
    "mae_1 = mean_absolute_error(predictions_1, y_valid) # Your code here\n",
    "\n",
    "# Uncomment to print MAE\n",
    "print(\"Mean Absolute Error:\" , mae_1)\n",
    "\n",
    "\n",
    "# Check your answer\n",
    "step_1.c.check()"
   ]
  },
  {
   "cell_type": "code",
   "execution_count": 8,
   "id": "1f468999",
   "metadata": {
    "execution": {
     "iopub.execute_input": "2023-02-10T13:33:27.055144Z",
     "iopub.status.busy": "2023-02-10T13:33:27.054156Z",
     "iopub.status.idle": "2023-02-10T13:33:27.059334Z",
     "shell.execute_reply": "2023-02-10T13:33:27.058169Z"
    },
    "papermill": {
     "duration": 0.014974,
     "end_time": "2023-02-10T13:33:27.061805",
     "exception": false,
     "start_time": "2023-02-10T13:33:27.046831",
     "status": "completed"
    },
    "tags": []
   },
   "outputs": [],
   "source": [
    "# Lines below will give you a hint or solution code\n",
    "#step_1.c.hint()\n",
    "#step_1.c.solution()"
   ]
  },
  {
   "cell_type": "markdown",
   "id": "0e96ab4e",
   "metadata": {
    "papermill": {
     "duration": 0.005677,
     "end_time": "2023-02-10T13:33:27.073575",
     "exception": false,
     "start_time": "2023-02-10T13:33:27.067898",
     "status": "completed"
    },
    "tags": []
   },
   "source": [
    "# Step 2: Improve the model\n",
    "\n",
    "Now that you've trained a default model as baseline, it's time to tinker with the parameters, to see if you can get better performance!\n",
    "- Begin by setting `my_model_2` to an XGBoost model, using the [XGBRegressor](https://xgboost.readthedocs.io/en/latest/python/python_api.html#xgboost.XGBRegressor) class.  Use what you learned in the previous tutorial to figure out how to change the default parameters (like `n_estimators` and `learning_rate`) to get better results.\n",
    "- Then, fit the model to the training data in `X_train` and `y_train`.\n",
    "- Set `predictions_2` to the model's predictions for the validation data.  Recall that the validation features are stored in `X_valid`.\n",
    "- Finally, use the `mean_absolute_error()` function to calculate the mean absolute error (MAE) corresponding to the predictions on the validation set.  Recall that the labels for the validation data are stored in `y_valid`.\n",
    "\n",
    "In order for this step to be marked correct, your model in `my_model_2` must attain lower MAE than the model in `my_model_1`. "
   ]
  },
  {
   "cell_type": "code",
   "execution_count": 9,
   "id": "cc436504",
   "metadata": {
    "execution": {
     "iopub.execute_input": "2023-02-10T13:33:27.088531Z",
     "iopub.status.busy": "2023-02-10T13:33:27.088118Z",
     "iopub.status.idle": "2023-02-10T13:33:37.545648Z",
     "shell.execute_reply": "2023-02-10T13:33:37.544557Z"
    },
    "papermill": {
     "duration": 10.467783,
     "end_time": "2023-02-10T13:33:37.548266",
     "exception": false,
     "start_time": "2023-02-10T13:33:27.080483",
     "status": "completed"
    },
    "tags": []
   },
   "outputs": [
    {
     "name": "stdout",
     "output_type": "stream",
     "text": [
      "Mean Absolute Error: 16688.691513270547\n"
     ]
    },
    {
     "data": {
      "application/javascript": [
       "parent.postMessage({\"jupyterEvent\": \"custom.exercise_interaction\", \"data\": {\"outcomeType\": 1, \"valueTowardsCompletion\": 0.5, \"interactionType\": 1, \"questionType\": 2, \"questionId\": \"2_Model2\", \"learnToolsVersion\": \"0.3.4\", \"failureMessage\": \"\", \"exceptionClass\": \"\", \"trace\": \"\"}}, \"*\")"
      ],
      "text/plain": [
       "<IPython.core.display.Javascript object>"
      ]
     },
     "metadata": {},
     "output_type": "display_data"
    },
    {
     "data": {
      "text/markdown": [
       "<span style=\"color:#33cc33\">Correct</span>"
      ],
      "text/plain": [
       "Correct"
      ]
     },
     "metadata": {},
     "output_type": "display_data"
    }
   ],
   "source": [
    "# Define the model\n",
    "my_model_2 = XGBRegressor(random_state=0, n_estimators=1000, learning_rate=0.05)  # Your code here\n",
    "\n",
    "# Fit the model\n",
    "my_model_2.fit(X_train, y_train) # Your code here\n",
    "\n",
    "# Get predictions\n",
    "predictions_2 = my_model_2.predict(X_valid) # Your code here\n",
    "\n",
    "# Calculate MAE\n",
    "mae_2 = mean_absolute_error(predictions_2, y_valid) # Your code here\n",
    "\n",
    "# Uncomment to print MAE\n",
    "print(\"Mean Absolute Error:\" , mae_2)\n",
    "\n",
    "# Check your answer\n",
    "step_2.check()"
   ]
  },
  {
   "cell_type": "code",
   "execution_count": 10,
   "id": "03a520ee",
   "metadata": {
    "execution": {
     "iopub.execute_input": "2023-02-10T13:33:37.564873Z",
     "iopub.status.busy": "2023-02-10T13:33:37.563409Z",
     "iopub.status.idle": "2023-02-10T13:33:37.569308Z",
     "shell.execute_reply": "2023-02-10T13:33:37.567849Z"
    },
    "papermill": {
     "duration": 0.01621,
     "end_time": "2023-02-10T13:33:37.571860",
     "exception": false,
     "start_time": "2023-02-10T13:33:37.555650",
     "status": "completed"
    },
    "tags": []
   },
   "outputs": [],
   "source": [
    "# Lines below will give you a hint or solution code\n",
    "#step_2.hint()\n",
    "#step_2.solution()"
   ]
  },
  {
   "cell_type": "markdown",
   "id": "cbb7337a",
   "metadata": {
    "papermill": {
     "duration": 0.006192,
     "end_time": "2023-02-10T13:33:37.585080",
     "exception": false,
     "start_time": "2023-02-10T13:33:37.578888",
     "status": "completed"
    },
    "tags": []
   },
   "source": [
    "# Step 3: Break the model\n",
    "\n",
    "In this step, you will create a model that performs worse than the original model in Step 1.  This will help you to develop your intuition for how to set parameters.  You might even find that you accidentally get better performance, which is ultimately a nice problem to have and a valuable learning experience!\n",
    "- Begin by setting `my_model_3` to an XGBoost model, using the [XGBRegressor](https://xgboost.readthedocs.io/en/latest/python/python_api.html#xgboost.XGBRegressor) class.  Use what you learned in the previous tutorial to figure out how to change the default parameters (like `n_estimators` and `learning_rate`) to design a model to get high MAE.\n",
    "- Then, fit the model to the training data in `X_train` and `y_train`.\n",
    "- Set `predictions_3` to the model's predictions for the validation data.  Recall that the validation features are stored in `X_valid`.\n",
    "- Finally, use the `mean_absolute_error()` function to calculate the mean absolute error (MAE) corresponding to the predictions on the validation set.  Recall that the labels for the validation data are stored in `y_valid`.\n",
    "\n",
    "In order for this step to be marked correct, your model in `my_model_3` must attain higher MAE than the model in `my_model_1`. "
   ]
  },
  {
   "cell_type": "code",
   "execution_count": 11,
   "id": "5e4fa749",
   "metadata": {
    "execution": {
     "iopub.execute_input": "2023-02-10T13:33:37.599586Z",
     "iopub.status.busy": "2023-02-10T13:33:37.599138Z",
     "iopub.status.idle": "2023-02-10T13:33:38.671668Z",
     "shell.execute_reply": "2023-02-10T13:33:38.670284Z"
    },
    "papermill": {
     "duration": 1.083955,
     "end_time": "2023-02-10T13:33:38.675358",
     "exception": false,
     "start_time": "2023-02-10T13:33:37.591403",
     "status": "completed"
    },
    "tags": []
   },
   "outputs": [
    {
     "name": "stdout",
     "output_type": "stream",
     "text": [
      "Mean Absolute Error: 27386.556613869863\n"
     ]
    },
    {
     "data": {
      "application/javascript": [
       "parent.postMessage({\"jupyterEvent\": \"custom.exercise_interaction\", \"data\": {\"outcomeType\": 1, \"valueTowardsCompletion\": 0.5, \"interactionType\": 1, \"questionType\": 2, \"questionId\": \"3_Model3\", \"learnToolsVersion\": \"0.3.4\", \"failureMessage\": \"\", \"exceptionClass\": \"\", \"trace\": \"\"}}, \"*\")"
      ],
      "text/plain": [
       "<IPython.core.display.Javascript object>"
      ]
     },
     "metadata": {},
     "output_type": "display_data"
    },
    {
     "data": {
      "text/markdown": [
       "<span style=\"color:#33cc33\">Correct</span>"
      ],
      "text/plain": [
       "Correct"
      ]
     },
     "metadata": {},
     "output_type": "display_data"
    }
   ],
   "source": [
    "# Define the model\n",
    "my_model_3 = XGBRegressor(random_state=0, n_estimators=100, learning_rate=1)  # Your code here\n",
    "\n",
    "# Fit the model\n",
    "my_model_3.fit(X_train, y_train) # Your code here\n",
    "\n",
    "# Get predictions\n",
    "predictions_3 = my_model_3.predict(X_valid) # Your code here\n",
    "\n",
    "# Calculate MAE\n",
    "mae_3 = mean_absolute_error(predictions_3, y_valid) # Your code here\n",
    "\n",
    "# Uncomment to print MAE\n",
    "print(\"Mean Absolute Error:\" , mae_3)\n",
    "\n",
    "# Check your answer\n",
    "step_3.check()"
   ]
  },
  {
   "cell_type": "code",
   "execution_count": 12,
   "id": "431094e8",
   "metadata": {
    "execution": {
     "iopub.execute_input": "2023-02-10T13:33:38.698579Z",
     "iopub.status.busy": "2023-02-10T13:33:38.697435Z",
     "iopub.status.idle": "2023-02-10T13:33:38.702812Z",
     "shell.execute_reply": "2023-02-10T13:33:38.701867Z"
    },
    "papermill": {
     "duration": 0.018581,
     "end_time": "2023-02-10T13:33:38.705563",
     "exception": false,
     "start_time": "2023-02-10T13:33:38.686982",
     "status": "completed"
    },
    "tags": []
   },
   "outputs": [],
   "source": [
    "# Lines below will give you a hint or solution code\n",
    "#step_3.hint()\n",
    "#step_3.solution()"
   ]
  },
  {
   "cell_type": "markdown",
   "id": "27bc39b9",
   "metadata": {
    "papermill": {
     "duration": 0.006374,
     "end_time": "2023-02-10T13:33:38.718834",
     "exception": false,
     "start_time": "2023-02-10T13:33:38.712460",
     "status": "completed"
    },
    "tags": []
   },
   "source": [
    "# Keep going\n",
    "\n",
    "Continue to learn about **[data leakage](https://www.kaggle.com/alexisbcook/data-leakage)**.  This is an important issue for a data scientist to understand, and it has the potential to ruin your models in subtle and dangerous ways!"
   ]
  },
  {
   "cell_type": "markdown",
   "id": "526a564a",
   "metadata": {
    "papermill": {
     "duration": 0.006378,
     "end_time": "2023-02-10T13:33:38.733029",
     "exception": false,
     "start_time": "2023-02-10T13:33:38.726651",
     "status": "completed"
    },
    "tags": []
   },
   "source": [
    "---\n",
    "\n",
    "\n",
    "\n",
    "\n",
    "*Have questions or comments? Visit the [course discussion forum](https://www.kaggle.com/learn/intermediate-machine-learning/discussion) to chat with other learners.*"
   ]
  }
 ],
 "metadata": {
  "kernelspec": {
   "display_name": "Python 3",
   "language": "python",
   "name": "python3"
  },
  "language_info": {
   "codemirror_mode": {
    "name": "ipython",
    "version": 3
   },
   "file_extension": ".py",
   "mimetype": "text/x-python",
   "name": "python",
   "nbconvert_exporter": "python",
   "pygments_lexer": "ipython3",
   "version": "3.7.12"
  },
  "papermill": {
   "default_parameters": {},
   "duration": 27.676672,
   "end_time": "2023-02-10T13:33:39.563962",
   "environment_variables": {},
   "exception": null,
   "input_path": "__notebook__.ipynb",
   "output_path": "__notebook__.ipynb",
   "parameters": {},
   "start_time": "2023-02-10T13:33:11.887290",
   "version": "2.3.4"
  }
 },
 "nbformat": 4,
 "nbformat_minor": 5
}
